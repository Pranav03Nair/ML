{
 "cells": [
  {
   "attachments": {},
   "cell_type": "markdown",
   "metadata": {},
   "source": [
    "LR for a predicting House Prices with given data set -\n",
    " \n",
    "House Size - [1000, 1500, 2000, 2500, 3000, 3500, 4000, 4500, 5000]\n",
    "\n",
    "House Price - [300, 450, 500, 550, 600, 650, 700, 750, 800]"
   ]
  },
  {
   "cell_type": "code",
   "execution_count": 5,
   "metadata": {},
   "outputs": [],
   "source": [
    "import numpy as np\n",
    "\n",
    "# House ka size\n",
    "X = np.array([1000, 1500, 2000, 2500, 3000, 3500, 4000, 4500, 5000])\n",
    "# Price of house\n",
    "Y = np.array([300, 450, 500, 550, 600, 650, 700, 750, 800])\n"
   ]
  },
  {
   "attachments": {},
   "cell_type": "markdown",
   "metadata": {},
   "source": [
    "Line Equation is 'y=mx+b' where m is the slope of the line and b is the intercept at y."
   ]
  },
  {
   "cell_type": "code",
   "execution_count": 6,
   "metadata": {},
   "outputs": [],
   "source": [
    "# Initializing m and b values\n",
    "m=0\n",
    "b=0"
   ]
  },
  {
   "attachments": {},
   "cell_type": "markdown",
   "metadata": {},
   "source": [
    "The formula used in linear regression, which is y = mx + b, represents the equation of a straight line where y is the dependent variable (or response variable), x is the independent variable (or predictor variable), m is the slope (representing the relationship between x and y), and b is the intercept (representing the value of y when x is zero).\n",
    "\n",
    "It is a general representation of the formula used in linear regression and the formula wont change regardless of specific dataset or problem.\n",
    "\n",
    "However, the method we will use in this LR Problem is least squares method, and this method to determine optimal values of 'm' and 'b' may differ.\n",
    "Different methods, emplou different mathematical techniques to determine the optimal values.\n",
    "\n",
    "Also, here Least Squares method was used because it is a widely known method with desireable properties and straightforward way of estimation."
   ]
  },
  {
   "attachments": {},
   "cell_type": "markdown",
   "metadata": {},
   "source": [
    "To Train the Model - \n",
    "We use Least Squares Method to find optimal values of m and b"
   ]
  },
  {
   "cell_type": "code",
   "execution_count": 7,
   "metadata": {},
   "outputs": [],
   "source": [
    "mean_x = np.mean(X)\n",
    "mean_y = np.mean(Y)\n",
    "\n",
    "# Calculate the slope and intercept using LEAST Square Method\n",
    "numerator = np.sum((X - mean_x) * (Y - mean_y))\n",
    "denominator = np.sum((X - mean_x)**2)\n",
    "\n",
    "m = numerator/denominator\n",
    "b = mean_y - m * mean_x"
   ]
  },
  {
   "attachments": {},
   "cell_type": "markdown",
   "metadata": {},
   "source": [
    "Decoding the Formula Used - \n",
    "\n",
    "A. numerator = np.sum((X - mean_x) * (y - mean_y)):\n",
    "    In this step, we calc the numerator of the formula for the slope (m).\n",
    "    (X - mean_x) calculates the difference between each house size (X) and the mean of all the house sizes.\n",
    "    (y - mean_y) calculates the difference between each house price (y) and the mean of all the house prices.\n",
    "    (X - mean_x) * (y - mean_y) calculates the product of these differences for each data point.\n",
    "    np.sum(...) calculates the sum of all these products.\n",
    "\n",
    "B. denominator = np.sum((X - mean_x) ** 2):\n",
    "    In this step, we calculate the denominator of the formula for the slope (m).\n",
    "    (X - mean_x) calculates the difference between each house size (X) and the mean of all the house sizes.\n",
    "    (X - mean_x) ** 2 squares each of these differences.\n",
    "    np.sum(...) calculates the sum of all these squared differences.\n",
    "    \n",
    "C. m = numerator / denominator:\n",
    "    In this step, we calculate the slope (m) by dividing the numerator by the denominator.\n",
    "    The slope represents how the house price changes with each unit increase in house size. A positive slope indicates that the price increases with size, while a negative slope indicates a decrease.\n",
    "\n",
    "D. b = mean_y - m * mean_x:\n",
    "    In this step, we calculate the intercept (b) of the line.\n",
    "    mean_y is the mean of all the house prices.\n",
    "    m * mean_x calculates the predicted price at the mean of all the house sizes.\n",
    "    b represents the y-intercept, which is the point where the line intersects the y-axis."
   ]
  },
  {
   "attachments": {},
   "cell_type": "markdown",
   "metadata": {},
   "source": [
    "PREDICTING THE PRICES"
   ]
  },
  {
   "cell_type": "code",
   "execution_count": 8,
   "metadata": {},
   "outputs": [
    {
     "name": "stdout",
     "output_type": "stream",
     "text": [
      "For house size 1200 the prices are -  384.8888888888889\n",
      "For house size 1800 the prices are -  452.8888888888889\n",
      "For house size 2000 the prices are -  475.55555555555554\n"
     ]
    }
   ],
   "source": [
    "new_house_sizes = np.array([1200,1800,2000])\n",
    "predicted_house_prices = m * new_house_sizes + b\n",
    "\n",
    "# Printing the prices of the houses\n",
    "for i in range(len(new_house_sizes)):\n",
    "    print(\"For house size\", new_house_sizes[i],\"the prices are - \",predicted_house_prices[i])                  "
   ]
  }
 ],
 "metadata": {
  "kernelspec": {
   "display_name": "TaskForce141",
   "language": "python",
   "name": "python3"
  },
  "language_info": {
   "codemirror_mode": {
    "name": "ipython",
    "version": 3
   },
   "file_extension": ".py",
   "mimetype": "text/x-python",
   "name": "python",
   "nbconvert_exporter": "python",
   "pygments_lexer": "ipython3",
   "version": "3.10.11"
  },
  "orig_nbformat": 4
 },
 "nbformat": 4,
 "nbformat_minor": 2
}
